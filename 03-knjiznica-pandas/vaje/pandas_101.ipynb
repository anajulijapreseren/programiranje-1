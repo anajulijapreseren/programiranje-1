{
 "cells": [
  {
   "cell_type": "markdown",
   "metadata": {},
   "source": [
    "# Analiza podatkov s pandas\n",
    "\n",
    "[Pandas quick-start guide](http://pandas.pydata.org/pandas-docs/stable/10min.html)  \n",
    "[Pandas documentation](http://pandas.pydata.org/pandas-docs/stable/)  \n",
    "[Lecture notes on pandas](../predavanja/Analiza podatkov s knjižnico Pandas.ipynb)\n"
   ]
  },
  {
   "cell_type": "markdown",
   "metadata": {},
   "source": [
    "### Naložimo pandas in podatke"
   ]
  },
  {
   "cell_type": "code",
   "execution_count": 40,
   "metadata": {},
   "outputs": [],
   "source": [
    "# naložimo paket\n",
    "import pandas as pd\n",
    "import os.path\n",
    "# ker bomo delali z velikimi razpredelnicami, povemo, da naj se vedno izpiše le 10 vrstic\n",
    "pd.options.display.max_rows = 10\n",
    "\n",
    "# izberemo interaktivni \"notebook\" stil risanja\n",
    "%matplotlib notebook\n",
    "# naložimo razpredelnico, s katero bomo delali\n",
    "filmi = pd.read_csv(os.path.join('../../', '02-zajem-podatkov', 'predavanja', 'obdelani-podatki','filmi.csv'), index_col='id')"
   ]
  },
  {
   "cell_type": "markdown",
   "metadata": {},
   "source": [
    "Poglejmo si podatke."
   ]
  },
  {
   "cell_type": "code",
   "execution_count": 3,
   "metadata": {},
   "outputs": [],
   "source": [
    "filmi"
   ]
  },
  {
   "cell_type": "markdown",
   "metadata": {},
   "source": [
    "## Proučevanje podatkov\n",
    "\n",
    "Razvrstite podatke po ocenah."
   ]
  },
  {
   "cell_type": "code",
   "execution_count": 4,
   "metadata": {},
   "outputs": [],
   "source": [
    "filmi.sort_values('ocena')"
   ]
  },
  {
   "cell_type": "markdown",
   "metadata": {},
   "source": [
    "Poberite stolpec ocen."
   ]
  },
  {
   "cell_type": "code",
   "execution_count": 6,
   "metadata": {},
   "outputs": [],
   "source": [
    "ocena = filmi['ocena']"
   ]
  },
  {
   "cell_type": "markdown",
   "metadata": {},
   "source": [
    "Ukaza `filmi['ocena']` in `filmi[['ocena']]` sta različna:"
   ]
  },
  {
   "cell_type": "code",
   "execution_count": null,
   "metadata": {},
   "outputs": [],
   "source": [
    "print(type(filmi['ocena']))\n",
    "print(type(filmi[['ocena']]))"
   ]
  },
  {
   "cell_type": "markdown",
   "metadata": {},
   "source": [
    "Stolpci objekta `DataFrame` so tipa `Series`. Z enojnimi oklepaji poberemo `Series`, z dvojnimi oklepaji pa `DataFrame` podtabelo. Večina operacij (grouping, joining, plotting,  filtering, ...) deluje na `DataFrame`. \n",
    "\n",
    "Tip `Series` se uporablja ko želimo npr. dodati stolpec."
   ]
  },
  {
   "cell_type": "markdown",
   "metadata": {},
   "source": [
    "Zaokrožite stolpec ocen z funkcijo `round()`."
   ]
  },
  {
   "cell_type": "code",
   "execution_count": 7,
   "metadata": {},
   "outputs": [],
   "source": [
    "ocena_rounded = round(ocena)"
   ]
  },
  {
   "cell_type": "markdown",
   "metadata": {},
   "source": [
    "Dodajte zaokrožene vrednosti v podatke."
   ]
  },
  {
   "cell_type": "code",
   "execution_count": 9,
   "metadata": {},
   "outputs": [],
   "source": [
    "filmi['ocena_rounded'] = ocena_rounded\n",
    "filmi.tail(3)"
   ]
  },
  {
   "cell_type": "markdown",
   "metadata": {},
   "source": [
    "Odstranite novo dodani stolpec z metodo `.drop()` z podanim `columns = ` argumentom."
   ]
  },
  {
   "cell_type": "code",
   "execution_count": 11,
   "metadata": {},
   "outputs": [],
   "source": [
    "filmi.drop(columns = 'ocena_rounded')"
   ]
  },
  {
   "cell_type": "markdown",
   "metadata": {},
   "source": [
    "### Opomba: slice\n",
    "Izbira podtabele ustvari t.i. \"rezino\" oz. \"slice\".\n",
    "Slice ni kopija tabele, temveč zgolj sklic na izvorno tabelo,\n",
    "in je zato ne moremo spreminjati.\n",
    "Če želimo kopijo, uporabimo metodo `.copy()` na rezini, ki jo nato lahko spreminjamo.\n"
   ]
  },
  {
   "cell_type": "markdown",
   "metadata": {},
   "source": [
    "Izberite podtabelo s stolpci `naslov`, `leto`, in `glasovi`, kateri nato dodate solpec z zaokroženimi ocenami."
   ]
  },
  {
   "cell_type": "code",
   "execution_count": 16,
   "metadata": {},
   "outputs": [],
   "source": [
    "filmi_simple_view = filmi[['naslov','leto','glasovi']]\n",
    "filmi_simple = filmi_simple_view.copy()\n",
    "filmi_simple['ocena_rounded'] = ocena_rounded\n",
    "filmi_simple"
   ]
  },
  {
   "cell_type": "markdown",
   "metadata": {},
   "source": [
    "### Filtracija\n",
    "\n",
    "Ustvarite filter, ki izbere filme, ki so izšli pred 1930, in filter za filme po 2017.\n",
    "Združite ju za izbor filmov, ki so izšli pred 1930 ali po 2017."
   ]
  },
  {
   "cell_type": "code",
   "execution_count": 22,
   "metadata": {},
   "outputs": [],
   "source": [
    "before = filmi['leto'] < 1930\n",
    "after = filmi['leto'] > 2017\n",
    "filmi[before | after]"
   ]
  },
  {
   "cell_type": "markdown",
   "metadata": {},
   "source": [
    "Definirajte funkcijo, ki preveri ali niz vsebuje kvečjemu dve besedi. Nato s pomočjo `.apply()` izberite vse filme z imeni krajšimi od dveh besed in oceno nad 8."
   ]
  },
  {
   "cell_type": "code",
   "execution_count": 26,
   "metadata": {},
   "outputs": [],
   "source": [
    "def short_name(x):\n",
    "    words = x.split()\n",
    "    return len(words) <= 2\n",
    "\n",
    "short_name = filmi['naslov'].apply(short_name)\n",
    "well_rated = filmi['ocena'] > 8\n",
    "filmi[short_name & well_rated]"
   ]
  },
  {
   "cell_type": "markdown",
   "metadata": {},
   "source": [
    "### Histogrami\n",
    "\n",
    "Združite filme po ocenah in jih preštejte."
   ]
  },
  {
   "cell_type": "code",
   "execution_count": 33,
   "metadata": {},
   "outputs": [],
   "source": [
    "rating_frequency = filmi.groupby('ocena').size()"
   ]
  },
  {
   "cell_type": "markdown",
   "metadata": {},
   "source": [
    "Naredite stolpični diagram teh podatkov."
   ]
  },
  {
   "cell_type": "code",
   "execution_count": 37,
   "metadata": {},
   "outputs": [],
   "source": [
    "rating_frequency.plot.bar()"
   ]
  },
  {
   "cell_type": "markdown",
   "metadata": {},
   "source": [
    "Tabele imajo metodo `.hist()`, ki omogoča izgradnjo histogramov za stolpce. Uporabite to metodo za prikaz poenostavljenih podatkov."
   ]
  },
  {
   "cell_type": "code",
   "execution_count": 36,
   "metadata": {},
   "outputs": [],
   "source": [
    "filmi_simple[['ocena_rounded']].hist()"
   ]
  },
  {
   "cell_type": "markdown",
   "metadata": {},
   "source": [
    "### Izris povprečne dolžine filma glede na leto"
   ]
  },
  {
   "cell_type": "code",
   "execution_count": 41,
   "metadata": {},
   "outputs": [],
   "source": [
    "films_by_year = filmi.groupby('leto')\n",
    "means_by_year = films_by_year.mean()"
   ]
  },
  {
   "cell_type": "code",
   "execution_count": null,
   "metadata": {},
   "outputs": [],
   "source": [
    "mean_dolzina = means_by_year[['dolzina']]\n",
    "mean_dolzina.plot()"
   ]
  },
  {
   "cell_type": "markdown",
   "metadata": {},
   "source": [
    "### Izris skupnega zasluzka za posamezno leto"
   ]
  },
  {
   "cell_type": "code",
   "execution_count": 43,
   "metadata": {},
   "outputs": [
    {
     "data": {
      "text/plain": [
       "<AxesSubplot:xlabel='leto'>"
      ]
     },
     "execution_count": 43,
     "metadata": {},
     "output_type": "execute_result"
    },
    {
     "data": {
      "image/png": "[encoded data removed]",
      "text/plain": [
       "<Figure size 432x288 with 1 Axes>"
      ]
     },
     "metadata": {
      "needs_background": "light"
     },
     "output_type": "display_data"
    }
   ],
   "source": [
    "filmi_po_letu.sum()[\"zasluzek\"].plot()\n",
    "#namesto sum je dal tudi mean?"
   ]
  },
  {
   "cell_type": "code",
   "execution_count": null,
   "metadata": {},
   "outputs": [],
   "source": [
    "films_by_year.sum()[['zasluzek']].plot()"
   ]
  }
 ],
 "metadata": {
  "kernelspec": {
   "display_name": "Python 3",
   "language": "python",
   "name": "python3"
  },
  "language_info": {
   "codemirror_mode": {
    "name": "ipython",
    "version": 3
   },
   "file_extension": ".py",
   "mimetype": "text/x-python",
   "name": "python",
   "nbconvert_exporter": "python",
   "pygments_lexer": "ipython3",
   "version": "3.8.1"
  }
 },
 "nbformat": 4,
 "nbformat_minor": 2
}
